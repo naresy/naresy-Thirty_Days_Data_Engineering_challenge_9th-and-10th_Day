{
 "cells": [
  {
   "cell_type": "code",
   "execution_count": 7,
   "metadata": {},
   "outputs": [],
   "source": [
    "# Import Packages\n",
    "import pandas as pd\n",
    "import csv\n",
    "import seaborn as sns\n",
    "import numpy as np\n",
    "import networkx as nx\n",
    "import graphviz\n",
    "from IPython.display import display\n",
    "from collections import defaultdict\n",
    "from sklearn.preprocessing import LabelEncoder, OneHotEncoder, MultiLabelBinarizer, StandardScaler\n",
    "from matplotlib import pyplot as plt\n",
    "from sklearn.model_selection import train_test_split, cross_validate\n",
    "from sklearn.tree import DecisionTreeClassifier, export_graphviz\n",
    "from sklearn.ensemble import RandomForestClassifier\n",
    "from sklearn import tree \n",
    "from sklearn.pipeline import Pipeline\n",
    "from sklearn.metrics import accuracy_score"
   ]
  },
  {
   "cell_type": "code",
   "execution_count": 8,
   "metadata": {
    "tags": []
   },
   "outputs": [
    {
     "name": "stdout",
     "output_type": "stream",
     "text": [
      "UnicodeDecodeError encountered with encoding: utf-8\n"
     ]
    },
    {
     "name": "stderr",
     "output_type": "stream",
     "text": [
      "/Users/drpadhaya/anaconda3/lib/python3.11/site-packages/bs4/__init__.py:228: UserWarning: You provided Unicode markup but also provided a value for from_encoding. Your from_encoding will be ignored.\n",
      "  warnings.warn(\"You provided Unicode markup but also provided a value for from_encoding. Your from_encoding will be ignored.\")\n"
     ]
    },
    {
     "name": "stdout",
     "output_type": "stream",
     "text": [
      "HTML content read successfully using encoding: latin1\n"
     ]
    }
   ],
   "source": [
    "disease_symptom_dataset_url = \"http://people.dbmi.columbia.edu/~friedma/Projects/DiseaseSymptomKB/index.html\"\n",
    "\n",
    "# Try reading the HTML content with different encodings\n",
    "encodings_to_try = ['utf-8', 'latin1', 'iso-8859-1']\n",
    "for encoding in encodings_to_try:\n",
    "    try:\n",
    "        # Attempt to read the HTML content using the specified encoding\n",
    "        table = pd.read_html(disease_symptom_dataset_url, encoding=encoding)[0]\n",
    "        print(\"HTML content read successfully using encoding:\", encoding)\n",
    "        break  # Stop trying encodings if successful\n",
    "    except UnicodeDecodeError:\n",
    "        print(\"UnicodeDecodeError encountered with encoding:\", encoding)\n",
    "\n",
    "# Save CSV file\n",
    "table.to_csv(\"disease_symptom_dataset_unprocessed.csv\", index=False)"
   ]
  },
  {
   "cell_type": "code",
   "execution_count": 6,
   "metadata": {
    "tags": []
   },
   "outputs": [
    {
     "name": "stderr",
     "output_type": "stream",
     "text": [
      "/var/folders/_q/x217mw4d3jb_h85yxh6jfnc80000gn/T/ipykernel_6011/3139639563.py:11: FutureWarning: DataFrame.fillna with 'method' is deprecated and will raise in a future version. Use obj.ffill() or obj.bfill() instead.\n",
      "  disease_symptom_dataset_unprocessed = disease_symptom_dataset_unprocessed.fillna(method='ffill')\n"
     ]
    },
    {
     "ename": "AttributeError",
     "evalue": "'DataFrame' object has no attribute 'append'",
     "output_type": "error",
     "traceback": [
      "\u001b[0;31m---------------------------------------------------------------------------\u001b[0m",
      "\u001b[0;31mAttributeError\u001b[0m                            Traceback (most recent call last)",
      "\u001b[0;32m/var/folders/_q/x217mw4d3jb_h85yxh6jfnc80000gn/T/ipykernel_6011/3139639563.py\u001b[0m in \u001b[0;36m?\u001b[0;34m()\u001b[0m\n\u001b[1;32m     40\u001b[0m \u001b[0;34m\u001b[0m\u001b[0m\n\u001b[1;32m     41\u001b[0m     \u001b[0mdiseases\u001b[0m \u001b[0;34m=\u001b[0m \u001b[0mremove_umls_code\u001b[0m\u001b[0;34m(\u001b[0m\u001b[0mrow\u001b[0m\u001b[0;34m[\u001b[0m\u001b[0;34m'disease'\u001b[0m\u001b[0;34m]\u001b[0m\u001b[0;34m)\u001b[0m \u001b[0;32mif\u001b[0m \u001b[0;34m(\u001b[0m\u001b[0mrow\u001b[0m\u001b[0;34m[\u001b[0m\u001b[0;34m'disease'\u001b[0m\u001b[0;34m]\u001b[0m \u001b[0;34m!=\u001b[0m\u001b[0;34m\"\\xc2\\xa0\"\u001b[0m\u001b[0;34m)\u001b[0m \u001b[0;32mand\u001b[0m \u001b[0;34m(\u001b[0m\u001b[0mrow\u001b[0m\u001b[0;34m[\u001b[0m\u001b[0;34m'disease'\u001b[0m\u001b[0;34m]\u001b[0m \u001b[0;34m!=\u001b[0m \u001b[0;34m\"\"\u001b[0m\u001b[0;34m)\u001b[0m \u001b[0;32melse\u001b[0m \u001b[0;34m[\u001b[0m\u001b[0;34m]\u001b[0m\u001b[0;34m\u001b[0m\u001b[0;34m\u001b[0m\u001b[0m\n\u001b[1;32m     42\u001b[0m     \u001b[0moccurrences\u001b[0m \u001b[0;34m=\u001b[0m \u001b[0mrow\u001b[0m\u001b[0;34m[\u001b[0m\u001b[0;34m'occurrences'\u001b[0m\u001b[0;34m]\u001b[0m \u001b[0;32mif\u001b[0m \u001b[0;34m(\u001b[0m\u001b[0mrow\u001b[0m\u001b[0;34m[\u001b[0m\u001b[0;34m'occurrences'\u001b[0m\u001b[0;34m]\u001b[0m \u001b[0;34m!=\u001b[0m\u001b[0;34m\"\\xc2\\xa0\"\u001b[0m\u001b[0;34m)\u001b[0m \u001b[0;32mand\u001b[0m \u001b[0;34m(\u001b[0m\u001b[0mrow\u001b[0m\u001b[0;34m[\u001b[0m\u001b[0;34m'occurrences'\u001b[0m\u001b[0;34m]\u001b[0m \u001b[0;34m!=\u001b[0m \u001b[0;34m\"\"\u001b[0m\u001b[0;34m)\u001b[0m \u001b[0;32melse\u001b[0m \u001b[0;34m[\u001b[0m\u001b[0;34m]\u001b[0m\u001b[0;34m\u001b[0m\u001b[0;34m\u001b[0m\u001b[0m\n\u001b[1;32m     43\u001b[0m     \u001b[0msymptoms\u001b[0m \u001b[0;34m=\u001b[0m \u001b[0mremove_umls_code\u001b[0m\u001b[0;34m(\u001b[0m\u001b[0mrow\u001b[0m\u001b[0;34m[\u001b[0m\u001b[0;34m'symptoms'\u001b[0m\u001b[0;34m]\u001b[0m\u001b[0;34m)\u001b[0m \u001b[0;32mif\u001b[0m \u001b[0;34m(\u001b[0m\u001b[0mrow\u001b[0m\u001b[0;34m[\u001b[0m\u001b[0;34m'symptoms'\u001b[0m\u001b[0;34m]\u001b[0m \u001b[0;34m!=\u001b[0m\u001b[0;34m\"\\xc2\\xa0\"\u001b[0m\u001b[0;34m)\u001b[0m \u001b[0;32mand\u001b[0m \u001b[0;34m(\u001b[0m\u001b[0mrow\u001b[0m\u001b[0;34m[\u001b[0m\u001b[0;34m'symptoms'\u001b[0m\u001b[0;34m]\u001b[0m \u001b[0;34m!=\u001b[0m \u001b[0;34m\"\"\u001b[0m\u001b[0;34m)\u001b[0m \u001b[0;32melse\u001b[0m \u001b[0;34m[\u001b[0m\u001b[0;34m]\u001b[0m\u001b[0;34m\u001b[0m\u001b[0;34m\u001b[0m\u001b[0m\n\u001b[0;32m---> 44\u001b[0;31m     disease_symptom_df = disease_symptom_df.append(\n\u001b[0m\u001b[1;32m     45\u001b[0m         {\n\u001b[1;32m     46\u001b[0m             \u001b[0;34m\"diseases\"\u001b[0m\u001b[0;34m:\u001b[0m \u001b[0mlistToString\u001b[0m\u001b[0;34m(\u001b[0m\u001b[0mremove_umls_code\u001b[0m\u001b[0;34m(\u001b[0m\u001b[0mrow\u001b[0m\u001b[0;34m[\u001b[0m\u001b[0;34m'disease'\u001b[0m\u001b[0;34m]\u001b[0m\u001b[0;34m)\u001b[0m \u001b[0;32mif\u001b[0m \u001b[0;34m(\u001b[0m\u001b[0mrow\u001b[0m\u001b[0;34m[\u001b[0m\u001b[0;34m'disease'\u001b[0m\u001b[0;34m]\u001b[0m \u001b[0;34m!=\u001b[0m\u001b[0;34m\"\\xc2\\xa0\"\u001b[0m\u001b[0;34m)\u001b[0m \u001b[0;32mand\u001b[0m \u001b[0;34m(\u001b[0m\u001b[0mrow\u001b[0m\u001b[0;34m[\u001b[0m\u001b[0;34m'disease'\u001b[0m\u001b[0;34m]\u001b[0m \u001b[0;34m!=\u001b[0m \u001b[0;34m\"\"\u001b[0m\u001b[0;34m)\u001b[0m \u001b[0;32melse\u001b[0m \u001b[0;34m[\u001b[0m\u001b[0;34m]\u001b[0m\u001b[0;34m)\u001b[0m\u001b[0;34m,\u001b[0m\u001b[0;34m\u001b[0m\u001b[0;34m\u001b[0m\u001b[0m\n\u001b[1;32m     47\u001b[0m             \u001b[0;34m\"symptoms\"\u001b[0m\u001b[0;34m:\u001b[0m\u001b[0mlistToString\u001b[0m\u001b[0;34m(\u001b[0m\u001b[0mremove_umls_code\u001b[0m\u001b[0;34m(\u001b[0m\u001b[0mrow\u001b[0m\u001b[0;34m[\u001b[0m\u001b[0;34m'symptoms'\u001b[0m\u001b[0;34m]\u001b[0m\u001b[0;34m)\u001b[0m \u001b[0;32mif\u001b[0m \u001b[0;34m(\u001b[0m\u001b[0mrow\u001b[0m\u001b[0;34m[\u001b[0m\u001b[0;34m'symptoms'\u001b[0m\u001b[0;34m]\u001b[0m \u001b[0;34m!=\u001b[0m\u001b[0;34m\"\\xc2\\xa0\"\u001b[0m\u001b[0;34m)\u001b[0m \u001b[0;32mand\u001b[0m \u001b[0;34m(\u001b[0m\u001b[0mrow\u001b[0m\u001b[0;34m[\u001b[0m\u001b[0;34m'symptoms'\u001b[0m\u001b[0;34m]\u001b[0m \u001b[0;34m!=\u001b[0m \u001b[0;34m\"\"\u001b[0m\u001b[0;34m)\u001b[0m \u001b[0;32melse\u001b[0m \u001b[0;34m[\u001b[0m\u001b[0;34m]\u001b[0m\u001b[0;34m)\u001b[0m\u001b[0;34m\u001b[0m\u001b[0;34m\u001b[0m\u001b[0m\n",
      "\u001b[0;32m~/anaconda3/lib/python3.11/site-packages/pandas/core/generic.py\u001b[0m in \u001b[0;36m?\u001b[0;34m(self, name)\u001b[0m\n\u001b[1;32m   6200\u001b[0m             \u001b[0;32mand\u001b[0m \u001b[0mname\u001b[0m \u001b[0;32mnot\u001b[0m \u001b[0;32min\u001b[0m \u001b[0mself\u001b[0m\u001b[0;34m.\u001b[0m\u001b[0m_accessors\u001b[0m\u001b[0;34m\u001b[0m\u001b[0;34m\u001b[0m\u001b[0m\n\u001b[1;32m   6201\u001b[0m             \u001b[0;32mand\u001b[0m \u001b[0mself\u001b[0m\u001b[0;34m.\u001b[0m\u001b[0m_info_axis\u001b[0m\u001b[0;34m.\u001b[0m\u001b[0m_can_hold_identifiers_and_holds_name\u001b[0m\u001b[0;34m(\u001b[0m\u001b[0mname\u001b[0m\u001b[0;34m)\u001b[0m\u001b[0;34m\u001b[0m\u001b[0;34m\u001b[0m\u001b[0m\n\u001b[1;32m   6202\u001b[0m         ):\n\u001b[1;32m   6203\u001b[0m             \u001b[0;32mreturn\u001b[0m \u001b[0mself\u001b[0m\u001b[0;34m[\u001b[0m\u001b[0mname\u001b[0m\u001b[0;34m]\u001b[0m\u001b[0;34m\u001b[0m\u001b[0;34m\u001b[0m\u001b[0m\n\u001b[0;32m-> 6204\u001b[0;31m         \u001b[0;32mreturn\u001b[0m \u001b[0mobject\u001b[0m\u001b[0;34m.\u001b[0m\u001b[0m__getattribute__\u001b[0m\u001b[0;34m(\u001b[0m\u001b[0mself\u001b[0m\u001b[0;34m,\u001b[0m \u001b[0mname\u001b[0m\u001b[0;34m)\u001b[0m\u001b[0;34m\u001b[0m\u001b[0;34m\u001b[0m\u001b[0m\n\u001b[0m",
      "\u001b[0;31mAttributeError\u001b[0m: 'DataFrame' object has no attribute 'append'"
     ]
    }
   ],
   "source": [
    "# Data Preprocessing\n",
    "# Read CSV File\n",
    "disease_symptom_dataset_unprocessed = pd.read_csv('disease_symptom_dataset_unprocessed.csv')\n",
    "# Drop the first row\n",
    "disease_symptom_dataset_unprocessed = disease_symptom_dataset_unprocessed.drop(0, axis=0)\n",
    "# Reset Index\n",
    "disease_symptom_dataset_unprocessed = disease_symptom_dataset_unprocessed.reset_index(drop=True)\n",
    "# Rename columns\n",
    "disease_symptom_dataset_unprocessed.columns=['disease', 'occurrences', 'symptoms']\n",
    "# Handle NaN values\n",
    "disease_symptom_dataset_unprocessed = disease_symptom_dataset_unprocessed.fillna(method='ffill')\n",
    "\n",
    "# Function to convert   \n",
    "def listToString(s):  \n",
    "    \n",
    "    # initialize an empty string \n",
    "    str1 = \" \" \n",
    "    \n",
    "    # return string   \n",
    "    return (str1.join(s)) \n",
    "        \n",
    "# Process disease and symptoms columns\n",
    "def remove_umls_code(data):\n",
    "    data_ = []\n",
    "    items = data.replace('^','_').split('_')\n",
    "    i = 1\n",
    "    for item in items:\n",
    "        if (i % 2 == 0):\n",
    "            data_.append(item)\n",
    "        i += 1\n",
    "    return data_\n",
    "\n",
    "diseases = []\n",
    "symptoms = []\n",
    "occurrences = 0\n",
    "disease_symptoms = defaultdict(list)\n",
    "disease_symptoms_occurrences = {}\n",
    "disease_symptom_df = pd.DataFrame([], columns=[\"diseases\", \"symptoms\"])\n",
    "for index, row in disease_symptom_dataset_unprocessed.iterrows():\n",
    "\n",
    "    diseases = remove_umls_code(row['disease']) if (row['disease'] !=\"\\xc2\\xa0\") and (row['disease'] != \"\") else []\n",
    "    occurrences = row['occurrences'] if (row['occurrences'] !=\"\\xc2\\xa0\") and (row['occurrences'] != \"\") else []\n",
    "    symptoms = remove_umls_code(row['symptoms']) if (row['symptoms'] !=\"\\xc2\\xa0\") and (row['symptoms'] != \"\") else []\n",
    "    disease_symptom_df = disease_symptom_df.append(\n",
    "        {\n",
    "            \"diseases\": listToString(remove_umls_code(row['disease']) if (row['disease'] !=\"\\xc2\\xa0\") and (row['disease'] != \"\") else []), \n",
    "            \"symptoms\":listToString(remove_umls_code(row['symptoms']) if (row['symptoms'] !=\"\\xc2\\xa0\") and (row['symptoms'] != \"\") else [])\n",
    "        }, ignore_index=True)\n",
    "    for d in diseases:\n",
    "            for s in symptoms:\n",
    "                disease_symptoms[d].append(s)\n",
    "            disease_symptoms_occurrences[d] = occurrences\n",
    "\n",
    "# Save the cleaned dataset to a CSV file\n",
    "disease_symptom_dataset_unprocessed.to_csv(\"disease_symptom_dataset_processed.csv\")\n",
    "# Save disease-symptoms list to a CSV file\n",
    "disease_symptoms_data = pd.DataFrame.from_dict(disease_symptoms.items())\n",
    "disease_symptoms_data.to_csv('disease_symptoms.csv')\n",
    "# Save disease-symptoms-occurrences list to CSV file\n",
    "disease_symptoms_occurrences_data = pd.DataFrame.from_dict(disease_symptoms_occurrences.items())\n",
    "disease_symptoms_occurrences_data.to_csv('disease_occurrences.csv')\n"
   ]
  },
  {
   "cell_type": "code",
   "execution_count": 3,
   "metadata": {
    "tags": []
   },
   "outputs": [
    {
     "ename": "NameError",
     "evalue": "name 'disease_symptom_df' is not defined",
     "output_type": "error",
     "traceback": [
      "\u001b[0;31m---------------------------------------------------------------------------\u001b[0m",
      "\u001b[0;31mNameError\u001b[0m                                 Traceback (most recent call last)",
      "Cell \u001b[0;32mIn[3], line 1\u001b[0m\n\u001b[0;32m----> 1\u001b[0m disease_symptom_df\u001b[38;5;241m.\u001b[39mto_csv(\u001b[38;5;124m\"\u001b[39m\u001b[38;5;124mdisease_symptoms_network.csv\u001b[39m\u001b[38;5;124m\"\u001b[39m)\n\u001b[1;32m      2\u001b[0m \u001b[38;5;66;03m# 0. Figure size\u001b[39;00m\n\u001b[1;32m      3\u001b[0m plt\u001b[38;5;241m.\u001b[39mfigure(figsize\u001b[38;5;241m=\u001b[39m(\u001b[38;5;241m160\u001b[39m, \u001b[38;5;241m160\u001b[39m))\u001b[38;5;241m.\u001b[39mset_facecolor(\u001b[38;5;124m\"\u001b[39m\u001b[38;5;124mw\u001b[39m\u001b[38;5;124m\"\u001b[39m)\n",
      "\u001b[0;31mNameError\u001b[0m: name 'disease_symptom_df' is not defined"
     ]
    }
   ],
   "source": [
    "disease_symptom_df.to_csv(\"disease_symptoms_network.csv\")\n",
    "# 0. Figure size\n",
    "plt.figure(figsize=(160, 160)).set_facecolor(\"w\")\n",
    "\n",
    "# 1. Create the graph\n",
    "disease_symptom_network = nx.from_pandas_edgelist(disease_symptom_df, source='diseases', target='symptoms')\n",
    "\n",
    "# 2. Create a layout for our nodes \n",
    "layout = nx.spring_layout(disease_symptom_network,iterations=200)\n",
    "\n",
    "# 3. Draw the parts we want\n",
    "nx.draw_networkx_edges(disease_symptom_network, layout, edge_color='#AAAAAA')\n",
    "\n",
    "# Symptoms\n",
    "symptoms_n = [node for node in disease_symptom_network.nodes() if node in disease_symptom_df.symptoms.unique()]\n",
    "symptoms_size = [disease_symptom_network.degree(node) * 200 for node in disease_symptom_network.nodes() if node in disease_symptom_df.symptoms.unique()]\n",
    "nx.draw_networkx_nodes(disease_symptom_network, layout, nodelist=symptoms_n, node_size=symptoms_size, node_color='#27ae60')\n",
    "\n",
    "# Diseases\n",
    "diseases_n = [node for node in disease_symptom_network.nodes() if node in disease_symptom_df.diseases.unique()]\n",
    "diseases_size = [disease_symptom_network.degree(node) * 200 for node in disease_symptom_network.nodes() if node in disease_symptom_df.diseases.unique()]\n",
    "nx.draw_networkx_nodes(disease_symptom_network, layout, nodelist=diseases_n, node_size=diseases_size, node_color='#e67e22')\n",
    "\n",
    "# Label network\n",
    "symptoms_dict = dict(zip(symptoms_n, symptoms_n))\n",
    "diseases_dict = dict(zip(diseases_n, diseases_n))\n",
    "nx.draw_networkx_labels(disease_symptom_network, layout, labels=symptoms_dict)\n",
    "nx.draw_networkx_labels(disease_symptom_network, layout, labels=diseases_dict)\n",
    "\n",
    "# 4. Turn off the axis because I know you don't want it\n",
    "plt.axis('off')\n",
    "\n",
    "# Set the title\n",
    "plt.title(\"DISEASE-SYMPTOMS-NETWORK\")\n",
    "\n",
    "# 5. Save the plot\n",
    "plt.savefig('disease_symptom_network.png')\n",
    "\n",
    "# 6. Tell matplotlib to show it\n",
    "plt.show()\n",
    "\n"
   ]
  },
  {
   "cell_type": "code",
   "execution_count": 5,
   "metadata": {},
   "outputs": [
    {
     "name": "stderr",
     "output_type": "stream",
     "text": [
      "<ipython-input-5-77c3767734c7>:2: UserWarning: Pandas doesn't allow columns to be created via a new attribute name - see https://pandas.pydata.org/pandas-docs/stable/indexing.html#attribute-access\n",
      "  cleaned_data.cloumns = ['diseases', 'symptoms', 'occurrences']\n"
     ]
    },
    {
     "data": {
      "text/html": [
       "<div>\n",
       "<style scoped>\n",
       "    .dataframe tbody tr th:only-of-type {\n",
       "        vertical-align: middle;\n",
       "    }\n",
       "\n",
       "    .dataframe tbody tr th {\n",
       "        vertical-align: top;\n",
       "    }\n",
       "\n",
       "    .dataframe thead th {\n",
       "        text-align: right;\n",
       "    }\n",
       "</style>\n",
       "<table border=\"1\" class=\"dataframe\">\n",
       "  <thead>\n",
       "    <tr style=\"text-align: right;\">\n",
       "      <th></th>\n",
       "      <th>diseases</th>\n",
       "      <th>symptoms</th>\n",
       "      <th>occurrences</th>\n",
       "    </tr>\n",
       "  </thead>\n",
       "  <tbody>\n",
       "    <tr>\n",
       "      <th>0</th>\n",
       "      <td>hypertensive  disease</td>\n",
       "      <td>[pain  chest, shortness  of breath, dizziness,...</td>\n",
       "      <td>3363</td>\n",
       "    </tr>\n",
       "    <tr>\n",
       "      <th>1</th>\n",
       "      <td>diabetes</td>\n",
       "      <td>[polyuria, polydypsia, shortness  of breath, p...</td>\n",
       "      <td>1421</td>\n",
       "    </tr>\n",
       "    <tr>\n",
       "      <th>2</th>\n",
       "      <td>depression  mental</td>\n",
       "      <td>[feeling  suicidal, suicidal, hallucinations  ...</td>\n",
       "      <td>1337</td>\n",
       "    </tr>\n",
       "    <tr>\n",
       "      <th>3</th>\n",
       "      <td>depressive disorder</td>\n",
       "      <td>[feeling  suicidal, suicidal, hallucinations  ...</td>\n",
       "      <td>1337</td>\n",
       "    </tr>\n",
       "    <tr>\n",
       "      <th>4</th>\n",
       "      <td>coronary  arteriosclerosis</td>\n",
       "      <td>[pain  chest, angina  pectoris, shortness  of ...</td>\n",
       "      <td>1284</td>\n",
       "    </tr>\n",
       "  </tbody>\n",
       "</table>\n",
       "</div>"
      ],
      "text/plain": [
       "                     diseases  \\\n",
       "0       hypertensive  disease   \n",
       "1                    diabetes   \n",
       "2          depression  mental   \n",
       "3         depressive disorder   \n",
       "4  coronary  arteriosclerosis   \n",
       "\n",
       "                                            symptoms occurrences  \n",
       "0  [pain  chest, shortness  of breath, dizziness,...        3363  \n",
       "1  [polyuria, polydypsia, shortness  of breath, p...        1421  \n",
       "2  [feeling  suicidal, suicidal, hallucinations  ...        1337  \n",
       "3  [feeling  suicidal, suicidal, hallucinations  ...        1337  \n",
       "4  [pain  chest, angina  pectoris, shortness  of ...        1284  "
      ]
     },
     "execution_count": 5,
     "metadata": {},
     "output_type": "execute_result"
    }
   ],
   "source": [
    "cleaned_data = pd.DataFrame()\n",
    "cleaned_data.cloumns = ['diseases', 'symptoms', 'occurrences']\n",
    "cleaned_data['diseases'] = disease_symptoms_data[0]\n",
    "cleaned_data['symptoms'] = disease_symptoms_data[1]\n",
    "cleaned_data['occurrences'] = disease_symptoms_occurrences_data[1]\n",
    "cleaned_data.head()\n"
   ]
  },
  {
   "cell_type": "code",
   "execution_count": 4,
   "metadata": {
    "tags": []
   },
   "outputs": [
    {
     "ename": "NameError",
     "evalue": "name 'cleaned_data' is not defined",
     "output_type": "error",
     "traceback": [
      "\u001b[0;31m---------------------------------------------------------------------------\u001b[0m",
      "\u001b[0;31mNameError\u001b[0m                                 Traceback (most recent call last)",
      "Cell \u001b[0;32mIn[4], line 2\u001b[0m\n\u001b[1;32m      1\u001b[0m multi_label_binarizer \u001b[38;5;241m=\u001b[39m MultiLabelBinarizer()\n\u001b[0;32m----> 2\u001b[0m symptoms_encoded \u001b[38;5;241m=\u001b[39m pd\u001b[38;5;241m.\u001b[39mDataFrame(multi_label_binarizer\u001b[38;5;241m.\u001b[39mfit_transform(cleaned_data[\u001b[38;5;124m'\u001b[39m\u001b[38;5;124msymptoms\u001b[39m\u001b[38;5;124m'\u001b[39m]), columns\u001b[38;5;241m=\u001b[39mmulti_label_binarizer\u001b[38;5;241m.\u001b[39mclasses_, index\u001b[38;5;241m=\u001b[39mcleaned_data[\u001b[38;5;124m'\u001b[39m\u001b[38;5;124msymptoms\u001b[39m\u001b[38;5;124m'\u001b[39m]\u001b[38;5;241m.\u001b[39mindex)\n\u001b[1;32m      3\u001b[0m dataset \u001b[38;5;241m=\u001b[39m pd\u001b[38;5;241m.\u001b[39mconcat([cleaned_data[\u001b[38;5;124m'\u001b[39m\u001b[38;5;124mdiseases\u001b[39m\u001b[38;5;124m'\u001b[39m], symptoms_encoded], axis\u001b[38;5;241m=\u001b[39m\u001b[38;5;241m1\u001b[39m)\n\u001b[1;32m      4\u001b[0m dataset \u001b[38;5;241m=\u001b[39m dataset\u001b[38;5;241m.\u001b[39mdrop([\u001b[38;5;124m'\u001b[39m\u001b[38;5;124m'\u001b[39m], axis\u001b[38;5;241m=\u001b[39m\u001b[38;5;241m1\u001b[39m)\n",
      "\u001b[0;31mNameError\u001b[0m: name 'cleaned_data' is not defined"
     ]
    }
   ],
   "source": [
    "multi_label_binarizer = MultiLabelBinarizer()\n",
    "symptoms_encoded = pd.DataFrame(multi_label_binarizer.fit_transform(cleaned_data['symptoms']), columns=multi_label_binarizer.classes_, index=cleaned_data['symptoms'].index)\n",
    "dataset = pd.concat([cleaned_data['diseases'], symptoms_encoded], axis=1)\n",
    "dataset = dataset.drop([''], axis=1)\n",
    "dataset.to_csv('final_disease_symptom_data.csv')\n"
   ]
  },
  {
   "cell_type": "code",
   "execution_count": 5,
   "metadata": {
    "tags": []
   },
   "outputs": [
    {
     "ename": "NameError",
     "evalue": "name 'dataset' is not defined",
     "output_type": "error",
     "traceback": [
      "\u001b[0;31m---------------------------------------------------------------------------\u001b[0m",
      "\u001b[0;31mNameError\u001b[0m                                 Traceback (most recent call last)",
      "Cell \u001b[0;32mIn[5], line 2\u001b[0m\n\u001b[1;32m      1\u001b[0m \u001b[38;5;66;03m# Using split\u001b[39;00m\n\u001b[0;32m----> 2\u001b[0m y \u001b[38;5;241m=\u001b[39m dataset[\u001b[38;5;124m'\u001b[39m\u001b[38;5;124mdiseases\u001b[39m\u001b[38;5;124m'\u001b[39m]\u001b[38;5;241m.\u001b[39mvalues\n\u001b[1;32m      3\u001b[0m X \u001b[38;5;241m=\u001b[39m dataset\u001b[38;5;241m.\u001b[39mdrop(\u001b[38;5;124m'\u001b[39m\u001b[38;5;124mdiseases\u001b[39m\u001b[38;5;124m'\u001b[39m, axis \u001b[38;5;241m=\u001b[39m \u001b[38;5;241m1\u001b[39m)\u001b[38;5;241m.\u001b[39mvalues\n\u001b[1;32m      5\u001b[0m X_train, X_test, y_train, y_test \u001b[38;5;241m=\u001b[39m train_test_split(X, y, test_size\u001b[38;5;241m=\u001b[39m\u001b[38;5;241m0.3\u001b[39m, random_state\u001b[38;5;241m=\u001b[39m\u001b[38;5;241m42\u001b[39m)\n",
      "\u001b[0;31mNameError\u001b[0m: name 'dataset' is not defined"
     ]
    }
   ],
   "source": [
    "# Using split\n",
    "y = dataset['diseases'].values\n",
    "X = dataset.drop('diseases', axis = 1).values\n",
    "\n",
    "X_train, X_test, y_train, y_test = train_test_split(X, y, test_size=0.3, random_state=42)\n",
    "\n",
    "decision_tree = DecisionTreeClassifier()\n",
    "decision_tree = decision_tree.fit(X_train, y_train)\n",
    "decision_tree.score(X_test, y_test)\n",
    "\n",
    "# Won't work because the symptoms for each diseases are unique. The model has never seen the test data. Hence, the score is 0.\n",
    "# To Do: Find a way to efficiently split the dataset"
   ]
  },
  {
   "cell_type": "code",
   "execution_count": 6,
   "metadata": {},
   "outputs": [
    {
     "ename": "NameError",
     "evalue": "name 'dataset' is not defined",
     "output_type": "error",
     "traceback": [
      "\u001b[0;31m---------------------------------------------------------------------------\u001b[0m",
      "\u001b[0;31mNameError\u001b[0m                                 Traceback (most recent call last)",
      "Cell \u001b[0;32mIn[6], line 3\u001b[0m\n\u001b[1;32m      1\u001b[0m \u001b[38;5;66;03m# Decision Tree Classifier\u001b[39;00m\n\u001b[1;32m      2\u001b[0m \u001b[38;5;66;03m# Using split\u001b[39;00m\n\u001b[0;32m----> 3\u001b[0m y \u001b[38;5;241m=\u001b[39m dataset[\u001b[38;5;124m'\u001b[39m\u001b[38;5;124mdiseases\u001b[39m\u001b[38;5;124m'\u001b[39m]\u001b[38;5;241m.\u001b[39mvalues\n\u001b[1;32m      4\u001b[0m X \u001b[38;5;241m=\u001b[39m dataset\u001b[38;5;241m.\u001b[39mdrop(\u001b[38;5;124m'\u001b[39m\u001b[38;5;124mdiseases\u001b[39m\u001b[38;5;124m'\u001b[39m, axis \u001b[38;5;241m=\u001b[39m \u001b[38;5;241m1\u001b[39m)\u001b[38;5;241m.\u001b[39mvalues\n\u001b[1;32m      6\u001b[0m decision_tree \u001b[38;5;241m=\u001b[39m DecisionTreeClassifier()\n",
      "\u001b[0;31mNameError\u001b[0m: name 'dataset' is not defined"
     ]
    }
   ],
   "source": [
    "# Decision Tree Classifier\n",
    "# Using split\n",
    "y = dataset['diseases'].values\n",
    "X = dataset.drop('diseases', axis = 1).values\n",
    "\n",
    "decision_tree = DecisionTreeClassifier()\n",
    "decision_tree = decision_tree.fit(X, y)\n",
    "decision_tree.score(X, y)\n"
   ]
  },
  {
   "cell_type": "code",
   "execution_count": 9,
   "metadata": {},
   "outputs": [],
   "source": [
    "features = np.asarray(dataset.columns)\n",
    "features = np.delete(features, 0)\n",
    "classes = np.asarray(dataset['diseases'])\n"
   ]
  },
  {
   "cell_type": "code",
   "execution_count": 10,
   "metadata": {
    "tags": []
   },
   "outputs": [
    {
     "name": "stdout",
     "output_type": "stream",
     "text": [
      "|--- sore to touch <= 0.50\n",
      "|   |--- lesion <= 0.50\n",
      "|   |   |--- withdraw <= 0.50\n",
      "|   |   |   |--- regurgitates after swallowing <= 0.50\n",
      "|   |   |   |   |--- hallucinations auditory <= 0.50\n",
      "|   |   |   |   |   |--- pallor <= 0.50\n",
      "|   |   |   |   |   |   |--- shortness  of breath <= 0.50\n",
      "|   |   |   |   |   |   |   |--- phonophobia <= 0.50\n",
      "|   |   |   |   |   |   |   |   |--- gravida 0 <= 0.50\n",
      "|   |   |   |   |   |   |   |   |   |--- metastatic lesion <= 0.50\n",
      "|   |   |   |   |   |   |   |   |   |   |--- renal angle tenderness <= 0.50\n",
      "|   |   |   |   |   |   |   |   |   |   |   |--- truncated branch of depth 41\n",
      "|   |   |   |   |   |   |   |   |   |   |--- renal angle tenderness >  0.50\n",
      "|   |   |   |   |   |   |   |   |   |   |   |--- truncated branch of depth 2\n",
      "|   |   |   |   |   |   |   |   |   |--- metastatic lesion >  0.50\n",
      "|   |   |   |   |   |   |   |   |   |   |--- breath sounds decreased <= 0.50\n",
      "|   |   |   |   |   |   |   |   |   |   |   |--- class: neoplasm  metastasis\n",
      "|   |   |   |   |   |   |   |   |   |   |--- breath sounds decreased >  0.50\n",
      "|   |   |   |   |   |   |   |   |   |   |   |--- class: endocarditis\n",
      "|   |   |   |   |   |   |   |   |--- gravida 0 >  0.50\n",
      "|   |   |   |   |   |   |   |   |   |--- diarrhea <= 0.50\n",
      "|   |   |   |   |   |   |   |   |   |   |--- class: kidney  disease\n",
      "|   |   |   |   |   |   |   |   |   |--- diarrhea >  0.50\n",
      "|   |   |   |   |   |   |   |   |   |   |--- class: melanoma\n",
      "|   |   |   |   |   |   |   |--- phonophobia >  0.50\n",
      "|   |   |   |   |   |   |   |   |--- class: tonic-clonic  epilepsy\n",
      "|   |   |   |   |   |   |--- shortness  of breath >  0.50\n",
      "|   |   |   |   |   |   |   |--- polyuria <= 0.50\n",
      "|   |   |   |   |   |   |   |   |--- rhonchus <= 0.50\n",
      "|   |   |   |   |   |   |   |   |   |--- asthenia <= 0.50\n",
      "|   |   |   |   |   |   |   |   |   |   |--- wheezing <= 0.50\n",
      "|   |   |   |   |   |   |   |   |   |   |   |--- class: coronary  arteriosclerosis\n",
      "|   |   |   |   |   |   |   |   |   |   |--- wheezing >  0.50\n",
      "|   |   |   |   |   |   |   |   |   |   |   |--- truncated branch of depth 2\n",
      "|   |   |   |   |   |   |   |   |   |--- asthenia >  0.50\n",
      "|   |   |   |   |   |   |   |   |   |   |--- class: hypertensive  disease\n",
      "|   |   |   |   |   |   |   |   |--- rhonchus >  0.50\n",
      "|   |   |   |   |   |   |   |   |   |--- class: pneumonia\n",
      "|   |   |   |   |   |   |   |--- polyuria >  0.50\n",
      "|   |   |   |   |   |   |   |   |--- class: diabetes\n",
      "|   |   |   |   |   |--- pallor >  0.50\n",
      "|   |   |   |   |   |   |--- rhonchus <= 0.50\n",
      "|   |   |   |   |   |   |   |--- class: bacteremia\n",
      "|   |   |   |   |   |   |--- rhonchus >  0.50\n",
      "|   |   |   |   |   |   |   |--- class: anemia\n",
      "|   |   |   |   |--- hallucinations auditory >  0.50\n",
      "|   |   |   |   |   |--- feeling suicidal <= 0.50\n",
      "|   |   |   |   |   |   |--- impaired cognition <= 0.50\n",
      "|   |   |   |   |   |   |   |--- ascites <= 0.50\n",
      "|   |   |   |   |   |   |   |   |--- unsteady gait <= 0.50\n",
      "|   |   |   |   |   |   |   |   |   |--- class: schizophrenia\n",
      "|   |   |   |   |   |   |   |   |--- unsteady gait >  0.50\n",
      "|   |   |   |   |   |   |   |   |   |--- class: dementia\n",
      "|   |   |   |   |   |   |   |--- ascites >  0.50\n",
      "|   |   |   |   |   |   |   |   |--- class: personality  disorder\n",
      "|   |   |   |   |   |   |--- impaired cognition >  0.50\n",
      "|   |   |   |   |   |   |   |--- class: delusion\n",
      "|   |   |   |   |   |--- feeling suicidal >  0.50\n",
      "|   |   |   |   |   |   |--- chill <= 0.50\n",
      "|   |   |   |   |   |   |   |--- hyperhidrosis disorder <= 0.50\n",
      "|   |   |   |   |   |   |   |   |--- difficulty <= 0.50\n",
      "|   |   |   |   |   |   |   |   |   |--- terrify <= 0.50\n",
      "|   |   |   |   |   |   |   |   |   |   |--- class: chronic  alcoholic intoxication\n",
      "|   |   |   |   |   |   |   |   |   |--- terrify >  0.50\n",
      "|   |   |   |   |   |   |   |   |   |   |--- class: paranoia\n",
      "|   |   |   |   |   |   |   |   |--- difficulty >  0.50\n",
      "|   |   |   |   |   |   |   |   |   |--- energy increased <= 0.50\n",
      "|   |   |   |   |   |   |   |   |   |   |--- class: anxiety  state\n",
      "|   |   |   |   |   |   |   |   |   |--- energy increased >  0.50\n",
      "|   |   |   |   |   |   |   |   |   |   |--- class: manic  disorder\n",
      "|   |   |   |   |   |   |   |--- hyperhidrosis disorder >  0.50\n",
      "|   |   |   |   |   |   |   |   |--- class: bipolar  disorder\n",
      "|   |   |   |   |   |   |--- chill >  0.50\n",
      "|   |   |   |   |   |   |   |--- class: hepatitis  C\n",
      "|   |   |   |--- regurgitates after swallowing >  0.50\n",
      "|   |   |   |   |--- class: ketoacidosis  diabetic\n",
      "|   |   |--- withdraw >  0.50\n",
      "|   |   |   |--- achalasia <= 0.50\n",
      "|   |   |   |   |--- behavior hyperactive <= 0.50\n",
      "|   |   |   |   |   |--- alcoholic withdrawal symptoms <= 0.50\n",
      "|   |   |   |   |   |   |--- class: delirium\n",
      "|   |   |   |   |   |--- alcoholic withdrawal symptoms >  0.50\n",
      "|   |   |   |   |   |   |--- class: suicide  attempt\n",
      "|   |   |   |   |--- behavior hyperactive >  0.50\n",
      "|   |   |   |   |   |--- class: psychotic  disorder\n",
      "|   |   |   |--- achalasia >  0.50\n",
      "|   |   |   |   |--- class: parkinson  disease\n",
      "|   |--- lesion >  0.50\n",
      "|   |   |--- satiety early <= 0.50\n",
      "|   |   |   |--- night sweat <= 0.50\n",
      "|   |   |   |   |--- side pain <= 0.50\n",
      "|   |   |   |   |   |--- cachexia <= 0.50\n",
      "|   |   |   |   |   |   |--- ataxia <= 0.50\n",
      "|   |   |   |   |   |   |   |--- general unsteadiness <= 0.50\n",
      "|   |   |   |   |   |   |   |   |--- thicken <= 0.50\n",
      "|   |   |   |   |   |   |   |   |   |--- pain abdominal <= 0.50\n",
      "|   |   |   |   |   |   |   |   |   |   |--- pain <= 0.50\n",
      "|   |   |   |   |   |   |   |   |   |   |   |--- truncated branch of depth 2\n",
      "|   |   |   |   |   |   |   |   |   |   |--- pain >  0.50\n",
      "|   |   |   |   |   |   |   |   |   |   |   |--- class: exanthema\n",
      "|   |   |   |   |   |   |   |   |   |--- pain abdominal >  0.50\n",
      "|   |   |   |   |   |   |   |   |   |   |--- class: carcinoma colon\n",
      "|   |   |   |   |   |   |   |   |--- thicken >  0.50\n",
      "|   |   |   |   |   |   |   |   |   |--- class: primary malignant neoplasm\n",
      "|   |   |   |   |   |   |   |--- general unsteadiness >  0.50\n",
      "|   |   |   |   |   |   |   |   |--- class: respiratory  failure\n",
      "|   |   |   |   |   |   |--- ataxia >  0.50\n",
      "|   |   |   |   |   |   |   |--- class: lymphoma\n",
      "|   |   |   |   |   |--- cachexia >  0.50\n",
      "|   |   |   |   |   |   |--- class: primary  carcinoma of the liver cells\n",
      "|   |   |   |   |--- side pain >  0.50\n",
      "|   |   |   |   |   |--- class: deglutition  disorder\n",
      "|   |   |   |--- night sweat >  0.50\n",
      "|   |   |   |   |--- agitation <= 0.50\n",
      "|   |   |   |   |   |--- oliguria <= 0.50\n",
      "|   |   |   |   |   |   |--- non-productive cough <= 0.50\n",
      "|   |   |   |   |   |   |   |--- class: malignant  neoplasms\n",
      "|   |   |   |   |   |   |--- non-productive cough >  0.50\n",
      "|   |   |   |   |   |   |   |--- class: lymphatic  diseases\n",
      "|   |   |   |   |   |--- oliguria >  0.50\n",
      "|   |   |   |   |   |   |--- class: neutropenia\n",
      "|   |   |   |   |--- agitation >  0.50\n",
      "|   |   |   |   |   |--- class: carcinoma of lung\n",
      "|   |   |--- satiety early >  0.50\n",
      "|   |   |   |--- decreased stool caliber <= 0.50\n",
      "|   |   |   |   |--- class: neoplasm\n",
      "|   |   |   |--- decreased stool caliber >  0.50\n",
      "|   |   |   |   |--- class: adenocarcinoma\n",
      "|--- sore to touch >  0.50\n",
      "|   |--- hyperventilation <= 0.50\n",
      "|   |   |--- hemodynamically stable <= 0.50\n",
      "|   |   |   |--- mass of body structure <= 0.50\n",
      "|   |   |   |   |--- prodrome <= 0.50\n",
      "|   |   |   |   |   |--- dullness <= 0.50\n",
      "|   |   |   |   |   |   |--- fever <= 0.50\n",
      "|   |   |   |   |   |   |   |--- wheezing <= 0.50\n",
      "|   |   |   |   |   |   |   |   |--- erythema <= 0.50\n",
      "|   |   |   |   |   |   |   |   |   |--- shortness of breath <= 0.50\n",
      "|   |   |   |   |   |   |   |   |   |   |--- thicken <= 0.50\n",
      "|   |   |   |   |   |   |   |   |   |   |   |--- truncated branch of depth 2\n",
      "|   |   |   |   |   |   |   |   |   |   |--- thicken >  0.50\n",
      "|   |   |   |   |   |   |   |   |   |   |   |--- class: biliary  calculus\n",
      "|   |   |   |   |   |   |   |   |   |--- shortness of breath >  0.50\n",
      "|   |   |   |   |   |   |   |   |   |   |--- class: peripheral  vascular disease\n",
      "|   |   |   |   |   |   |   |   |--- erythema >  0.50\n",
      "|   |   |   |   |   |   |   |   |   |--- class: gout\n",
      "|   |   |   |   |   |   |   |--- wheezing >  0.50\n",
      "|   |   |   |   |   |   |   |   |--- class: hyperglycemia\n",
      "|   |   |   |   |   |   |--- fever >  0.50\n",
      "|   |   |   |   |   |   |   |--- chill <= 0.50\n",
      "|   |   |   |   |   |   |   |   |--- class: osteomyelitis\n",
      "|   |   |   |   |   |   |   |--- chill >  0.50\n",
      "|   |   |   |   |   |   |   |   |--- class: cellulitis\n",
      "|   |   |   |   |   |--- dullness >  0.50\n",
      "|   |   |   |   |   |   |--- class: diverticulitis\n",
      "|   |   |   |   |--- prodrome >  0.50\n",
      "|   |   |   |   |   |--- class: hernia  hiatal\n",
      "|   |   |   |--- mass of body structure >  0.50\n",
      "|   |   |   |   |--- tumor cell invasion <= 0.50\n",
      "|   |   |   |   |   |--- myalgia <= 0.50\n",
      "|   |   |   |   |   |   |--- class: ileus\n",
      "|   |   |   |   |   |--- myalgia >  0.50\n",
      "|   |   |   |   |   |   |--- class: gastroenteritis\n",
      "|   |   |   |   |--- tumor cell invasion >  0.50\n",
      "|   |   |   |   |   |--- class: carcinoma\n",
      "|   |   |--- hemodynamically stable >  0.50\n",
      "|   |   |   |--- hypertonicity <= 0.50\n",
      "|   |   |   |   |--- class: cirrhosis\n",
      "|   |   |   |--- hypertonicity >  0.50\n",
      "|   |   |   |   |--- class: thrombus\n",
      "|   |--- hyperventilation >  0.50\n",
      "|   |   |--- class: hernia\n",
      "\n"
     ]
    }
   ],
   "source": [
    "text_representation = tree.export_text(decision_tree, feature_names=features.tolist())\n",
    "print(text_representation)"
   ]
  },
  {
   "cell_type": "code",
   "execution_count": 11,
   "metadata": {},
   "outputs": [
    {
     "data": {
      "text/plain": [
       "'decision_tree_graphivz.png'"
      ]
     },
     "execution_count": 11,
     "metadata": {},
     "output_type": "execute_result"
    }
   ],
   "source": [
    "dot_data = tree.export_graphviz(decision_tree, out_file=None, feature_names=features.tolist(), class_names=classes.tolist(), filled=True)\n",
    "graph = graphviz.Source(dot_data, format=\"png\") \n",
    "graph.render(\"decision_tree_graphivz\")"
   ]
  },
  {
   "cell_type": "code",
   "execution_count": 12,
   "metadata": {
    "tags": []
   },
   "outputs": [
    {
     "name": "stdout",
     "output_type": "stream",
     "text": [
      "Predicted: depression  mental --------- Actual:depressive disorder\n",
      "Predicted: coronary  arteriosclerosis --------- Actual:coronary heart disease\n",
      "Predicted: HIV --------- Actual:acquired  immuno-deficiency  syndrome\n",
      "Predicted: HIV --------- Actual:hiv infections\n",
      "Predicted: sepsis (invertebrate) --------- Actual:septicemia\n",
      "Predicted: sepsis (invertebrate) --------- Actual:systemic  infection\n",
      "Predicted: carcinoma prostate --------- Actual:malignant  neoplasm of prostate\n",
      "Predicted: carcinoma breast --------- Actual:malignant  neoplasm of breast\n",
      "Predicted: candidiasis --------- Actual:oral  candidiasis\n",
      "Predicted: carcinoma colon --------- Actual:malignant  tumor of colon\n",
      "Predicted: tonic-clonic  epilepsy --------- Actual:tonic-clonic seizures\n",
      "Predicted: carcinoma of lung --------- Actual:malignant  neoplasm of lung\n",
      "Predicted: effusion  pericardial --------- Actual:pericardial effusion body substance\n",
      "Predicted: biliary  calculus --------- Actual:cholelithiasis\n"
     ]
    }
   ],
   "source": [
    "y_pred = decision_tree.predict(X)\n",
    "\n",
    "for i in range(0, len(y)):\n",
    "    if y_pred[i]!=y[i]:\n",
    "        print ('Predicted: {0} --------- Actual:{1}'.format(y_pred[i], y[i]))\n"
   ]
  },
  {
   "cell_type": "code",
   "execution_count": null,
   "metadata": {},
   "outputs": [],
   "source": []
  }
 ],
 "metadata": {
  "kernelspec": {
   "display_name": "Python 3 (ipykernel)",
   "language": "python",
   "name": "python3"
  },
  "language_info": {
   "codemirror_mode": {
    "name": "ipython",
    "version": 3
   },
   "file_extension": ".py",
   "mimetype": "text/x-python",
   "name": "python",
   "nbconvert_exporter": "python",
   "pygments_lexer": "ipython3",
   "version": "3.11.0"
  }
 },
 "nbformat": 4,
 "nbformat_minor": 2
}
